{
 "cells": [
  {
   "cell_type": "code",
   "execution_count": null,
   "metadata": {},
   "outputs": [],
   "source": [
    "# Astropy tools\n",
    "import astropy.units as u\n",
    "from astropy.coordinates import Angle, SkyCoord\n",
    "\n",
    "# Moc and HEALPix tools\n",
    "import cdshealpix\n",
    "import mocpy\n",
    "from mocpy import MOC, WCS\n",
    "\n",
    "# For plots\n",
    "import matplotlib.pyplot as plt\n",
    "\n",
    "import numpy as np\n",
    "\n",
    "print(\"healpix version : \", cdshealpix.__version__)\n",
    "print(\"mocpy version : \", mocpy.__version__)"
   ]
  },
  {
   "cell_type": "code",
   "execution_count": null,
   "metadata": {},
   "outputs": [],
   "source": [
    "ipix = np.arange(12 * 4**3, dtype=np.uint64)\n",
    "depth = 3\n",
    "delta_depth = 2"
   ]
  },
  {
   "cell_type": "code",
   "execution_count": null,
   "metadata": {},
   "outputs": [],
   "source": [
    "help(cdshealpix.external_neighbours)\n",
    "edges, corners = cdshealpix.external_neighbours(ipix, depth, delta_depth)"
   ]
  },
  {
   "cell_type": "code",
   "execution_count": null,
   "metadata": {},
   "outputs": [],
   "source": [
    "ipix_corner_cells = corners[corners >= 0].ravel().astype(int)\n",
    "ipix_border_cells = edges.ravel().astype(int)"
   ]
  },
  {
   "cell_type": "code",
   "execution_count": null,
   "metadata": {},
   "outputs": [],
   "source": [
    "help(MOC.from_healpix_cells)"
   ]
  },
  {
   "cell_type": "code",
   "execution_count": null,
   "metadata": {},
   "outputs": [],
   "source": [
    "# Create the moc from corner cells\n",
    "depth_corner_cells = np.ones(ipix_corner_cells.shape, dtype=np.uint8) * (\n",
    "    depth + delta_depth\n",
    ")\n",
    "moc_from_corner_cells = MOC.from_healpix_cells(ipix=ipix_corner_cells, depth=depth_corner_cells, max_depth=depth + delta_depth)"
   ]
  },
  {
   "cell_type": "code",
   "execution_count": null,
   "metadata": {},
   "outputs": [],
   "source": [
    "# Create the moc from border cells\n",
    "depth_border_cells = np.ones(ipix_border_cells.shape, dtype=np.uint8) * (\n",
    "    depth + delta_depth\n",
    ")\n",
    "moc_from_border_cells = MOC.from_healpix_cells(ipix=ipix_border_cells, depth=depth_border_cells, max_depth=depth + delta_depth)"
   ]
  },
  {
   "cell_type": "code",
   "execution_count": null,
   "metadata": {},
   "outputs": [],
   "source": [
    "# Plot the MOC using matplotlib\n",
    "fig = plt.figure(111, figsize=(10, 10))\n",
    "# Define a astropy WCS from the mocpy.WCS class\n",
    "with WCS(\n",
    "    fig,\n",
    "    fov=120 * u.deg,\n",
    "    center=SkyCoord(0, 0, unit=\"deg\", frame=\"icrs\"),\n",
    "    coordsys=\"icrs\",\n",
    "    rotation=Angle(0, u.degree),\n",
    "    projection=\"SIN\",\n",
    ") as wcs:\n",
    "    ax = fig.add_subplot(1, 1, 1, projection=wcs)\n",
    "\n",
    "    moc_from_corner_cells.fill(ax=ax, wcs=wcs, alpha=0.5, fill=True, color=\"green\")\n",
    "    moc_from_border_cells.fill(ax=ax, wcs=wcs, alpha=0.5, fill=True, color=\"red\")\n",
    "\n",
    "plt.xlabel(\"ra\")\n",
    "plt.ylabel(\"dec\")\n",
    "plt.title(\"neighbours\")\n",
    "plt.grid(color=\"black\", linestyle=\"dotted\")\n",
    "plt.show()"
   ]
  }
 ],
 "metadata": {
  "kernelspec": {
   "display_name": "Python 3 (ipykernel)",
   "language": "python",
   "name": "python3"
  },
  "language_info": {
   "codemirror_mode": {
    "name": "ipython",
    "version": 3
   },
   "file_extension": ".py",
   "mimetype": "text/x-python",
   "name": "python",
   "nbconvert_exporter": "python",
   "pygments_lexer": "ipython3",
   "version": "3.8.10"
  },
  "vscode": {
   "interpreter": {
    "hash": "85bb43f988bdbdc027a50b6d744a62eda8a76617af1f4f9b115d38242716dbac"
   }
  }
 },
 "nbformat": 4,
 "nbformat_minor": 2
}
